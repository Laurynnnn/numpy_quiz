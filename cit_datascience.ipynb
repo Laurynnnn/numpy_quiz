{
 "cells": [
  {
   "cell_type": "code",
   "execution_count": 6,
   "id": "4a2190a1",
   "metadata": {},
   "outputs": [
    {
     "name": "stdout",
     "output_type": "stream",
     "text": [
      "Requirement already satisfied: pandas in c:\\users\\abc\\anaconda3\\lib\\site-packages (1.4.2)\n",
      "Requirement already satisfied: numpy in c:\\users\\abc\\anaconda3\\lib\\site-packages (1.21.5)\n",
      "Requirement already satisfied: python-dateutil>=2.8.1 in c:\\users\\abc\\anaconda3\\lib\\site-packages (from pandas) (2.8.2)\n",
      "Requirement already satisfied: pytz>=2020.1 in c:\\users\\abc\\anaconda3\\lib\\site-packages (from pandas) (2021.3)\n",
      "Requirement already satisfied: six>=1.5 in c:\\users\\abc\\anaconda3\\lib\\site-packages (from python-dateutil>=2.8.1->pandas) (1.16.0)\n",
      "Note: you may need to restart the kernel to use updated packages.\n"
     ]
    }
   ],
   "source": [
    "pip install pandas numpy\n"
   ]
  },
  {
   "cell_type": "code",
   "execution_count": 4,
   "id": "5396c8d8",
   "metadata": {},
   "outputs": [],
   "source": [
    "import pandas as pd\n",
    "import numpy as np\n",
    "import statistics"
   ]
  },
  {
   "cell_type": "code",
   "execution_count": 7,
   "id": "b9cb9faa",
   "metadata": {},
   "outputs": [
    {
     "name": "stdout",
     "output_type": "stream",
     "text": [
      "Collecting statistics\n",
      "  Downloading statistics-1.0.3.5.tar.gz (8.3 kB)\n",
      "Requirement already satisfied: docutils>=0.3 in c:\\users\\abc\\anaconda3\\lib\\site-packages (from statistics) (0.17.1)\n",
      "Building wheels for collected packages: statistics\n",
      "  Building wheel for statistics (setup.py): started\n",
      "  Building wheel for statistics (setup.py): finished with status 'done'\n",
      "  Created wheel for statistics: filename=statistics-1.0.3.5-py3-none-any.whl size=7454 sha256=0d0d9e85f0f76b878a44bcb3607edd54b80c88ab1f00b085df102ab1876dfb24\n",
      "  Stored in directory: c:\\users\\abc\\appdata\\local\\pip\\cache\\wheels\\26\\3c\\70\\9467407f3aa90862061eadcd286627b23a8bab6789b667776f\n",
      "Successfully built statistics\n",
      "Installing collected packages: statistics\n",
      "Successfully installed statistics-1.0.3.5\n",
      "Note: you may need to restart the kernel to use updated packages.\n"
     ]
    }
   ],
   "source": [
    "pip install statistics"
   ]
  },
  {
   "cell_type": "code",
   "execution_count": 19,
   "id": "8f0b5193",
   "metadata": {},
   "outputs": [],
   "source": [
    "import pandas as pd\n",
    "import numpy as np\n",
    "import statistics as st"
   ]
  },
  {
   "cell_type": "code",
   "execution_count": 9,
   "id": "f38a98e9",
   "metadata": {},
   "outputs": [
    {
     "name": "stdout",
     "output_type": "stream",
     "text": [
      "[5 7 9]\n"
     ]
    }
   ],
   "source": [
    "#number 1\n",
    "a = np.array([1, 2, 3])\n",
    "b= np.array([4, 5, 6])\n",
    "c = a + b\n",
    "print(c)"
   ]
  },
  {
   "cell_type": "code",
   "execution_count": 10,
   "id": "8da86128",
   "metadata": {},
   "outputs": [
    {
     "name": "stdout",
     "output_type": "stream",
     "text": [
      "the array is [0. 0. 0. 0. 0. 0. 0. 0. 0. 0.]\n",
      "the reshaped array is [[0. 0. 0. 0. 0.]\n",
      " [0. 0. 0. 0. 0.]]\n"
     ]
    }
   ],
   "source": [
    "#number 2 - array of 10 zeros and reshape it to (2,5)\n",
    "array = np.zeros(10)\n",
    "print(f\"the array is {array}\")\n",
    "reshaped_array = np.reshape(array, (2,5))\n",
    "print(f\"the reshaped array is {reshaped_array}\")"
   ]
  },
  {
   "cell_type": "code",
   "execution_count": 24,
   "id": "d3e61b7b",
   "metadata": {},
   "outputs": [
    {
     "name": "stdout",
     "output_type": "stream",
     "text": [
      "Mean is  10.5\n",
      "Mode is  1\n",
      "Median is  10.5\n",
      "Standard Deviation is  5.766281297335398\n"
     ]
    }
   ],
   "source": [
    "#number 3 - mean, mode, median, standard deviation\n",
    "data = [1, 2, 3, 4, 5, 6, 7, 8, 9, 10, 11, 12, 13, 14, 15, 16, 17, 18, 19, 20]\n",
    "print(\"Mean is \", np.mean(data))\n",
    "print(\"Mode is \", st.mode(data))\n",
    "print(\"Median is \", st.median(data))\n",
    "print(\"Standard Deviation is \", np.std(data))"
   ]
  },
  {
   "cell_type": "code",
   "execution_count": 26,
   "id": "1f70f1b3",
   "metadata": {},
   "outputs": [
    {
     "name": "stdout",
     "output_type": "stream",
     "text": [
      "Array is [[0.57366262 0.83400459 0.53283201 0.2975982  0.96659285 0.03171084]\n",
      " [0.7043215  0.5147432  0.14659026 0.8576406  0.97969823 0.64368045]\n",
      " [0.98395747 0.70447789 0.99204331 0.03714088 0.35122907 0.10508385]\n",
      " [0.6751632  0.38338528 0.46574252 0.29443611 0.80770347 0.6022997 ]\n",
      " [0.51286679 0.03982793 0.45104133 0.48488816 0.29538083 0.87171014]\n",
      " [0.72937457 0.07298161 0.09233097 0.64806108 0.71950673 0.72048052]]\n",
      "The maximum is 0.9920433138513735\n",
      "The miniimum is 0.9920433138513735\n"
     ]
    }
   ],
   "source": [
    "#question 4 - a 6x6 numpy array with random values and find the min and max values\n",
    "values = np.random.random((6, 6))\n",
    "print(f\"Array is {values}\")\n",
    "maxi = values.max()\n",
    "print(f\"The maximum is {maxi}\")\n",
    "mini = values.min()\n",
    "print(f\"The miniimum is {maxi}\")"
   ]
  },
  {
   "cell_type": "code",
   "execution_count": 32,
   "id": "aec0f366",
   "metadata": {},
   "outputs": [
    {
     "name": "stdout",
     "output_type": "stream",
     "text": [
      "The reshaped array is [[30 60 70 10]\n",
      " [30 60 70 10]\n",
      " [30 60 70 10]\n",
      " [30 60 70 10]]\n"
     ]
    }
   ],
   "source": [
    "#question 5 -3D numpy array and reshape it to 2d\n",
    "\n",
    "array = np.array([[[30, 60], [70, 10]], [[30, 60], [70, 10]], [[30, 60], [70, 10]], [[30, 60], [70, 10]]])\n",
    "reshaped_array = np.reshape(array, (4, 4))\n",
    "print(f\"The reshaped array is {reshaped_array}\")"
   ]
  },
  {
   "cell_type": "code",
   "execution_count": 35,
   "id": "44e25625",
   "metadata": {},
   "outputs": [
    {
     "name": "stdout",
     "output_type": "stream",
     "text": [
      "The 1D array is [1 2 3 4 5 6 7 8 9]\n"
     ]
    }
   ],
   "source": [
    "#number 6 -creating a 1D array\n",
    "data = [[1, 2, 3], [4, 5, 6], [7, 8, 9]]\n",
    "array = np.array(data)\n",
    "result = array.flatten()\n",
    "print(f\"The 1D array is {result}\")"
   ]
  },
  {
   "cell_type": "code",
   "execution_count": null,
   "id": "92585a4a",
   "metadata": {},
   "outputs": [],
   "source": []
  },
  {
   "cell_type": "code",
   "execution_count": null,
   "id": "1538ed00",
   "metadata": {},
   "outputs": [],
   "source": []
  }
 ],
 "metadata": {
  "kernelspec": {
   "display_name": "Python 3 (ipykernel)",
   "language": "python",
   "name": "python3"
  },
  "language_info": {
   "codemirror_mode": {
    "name": "ipython",
    "version": 3
   },
   "file_extension": ".py",
   "mimetype": "text/x-python",
   "name": "python",
   "nbconvert_exporter": "python",
   "pygments_lexer": "ipython3",
   "version": "3.9.12"
  }
 },
 "nbformat": 4,
 "nbformat_minor": 5
}
